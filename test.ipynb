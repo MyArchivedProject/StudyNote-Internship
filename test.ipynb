{
 "cells": [
  {
   "cell_type": "code",
   "execution_count": 54,
   "metadata": {},
   "outputs": [
    {
     "name": "stdout",
     "output_type": "stream",
     "text": [
      "proxy: {'http': 'http://119.101.115.75:9999'}\n"
     ]
    }
   ],
   "source": [
    "import requests\n",
    "import random\n",
    "proxyHttp = [\n",
    "    {'http': 'http://119.101.115.75:9999'},\n",
    "    {'http': 'http://223.215.101.254:9999'}\n",
    "]\n",
    "proxyHttps = [\n",
    "    {'https': 'https://139.129.207.72:808'},\n",
    "    {'https': 'https://119.101.116.219:9999'}\n",
    "]\n",
    "ua1 = 'Mozilla/5.0 (Windows NT 6.1; WOW64) AppleWebKit/537.36 (KHTML, like Gecko) Chrome/50.0.2661.102 Safari/537.36'\n",
    "ua2 = 'Mozilla/5.0 (Windows NT 10.0; Win64; x64) AppleWebKit/537.36 (KHTML, like Gecko) Chrome/71.0.3578.98 Safari/537.36'\n",
    "head = {'User-Agent': ua2, \n",
    "             'Connection': 'keep-alive'}\n",
    "\n",
    "url = 'https://sh.zu.anjuke.com/?pi=baidu-cpchz-sh-hexin1&kwid=63651556880&utm_term=%E7%A7%9F%E6%88%BF'\n",
    "url1 = 'http://139.224.115.177:7777'\n",
    "url2 = 'https://icanhazip.com'\n",
    "url3 = 'https://www.toutiao.com/'\n",
    "proxy = random.choice(proxyHttp)\n",
    "print('proxy:',proxy)\n",
    "# p = requests.get(url1, headers=head, proxies = proxy)\n",
    "# p = requests.get(url3, headers=head)\n",
    "# print(p.text)\n",
    "# print(p.select('.single-mode-rbox'))"
   ]
  },
  {
   "cell_type": "code",
   "execution_count": 16,
   "metadata": {},
   "outputs": [],
   "source": [
    "# 最简单的爬虫程序demo , 适用于静态的,没有防爬虫策略的网站\n",
    "\n",
    "import requests # 发送网络请求，获取响应内容\n",
    "from bs4 import BeautifulSoup  # 对于网站响应的html进行解析 和数据的清洗\n",
    "import pandas # 数据可视化，保存数据\n",
    "\n",
    "def simpleDemo():\n",
    "    url = 'https://news.qudong.com/yejie/' # 要爬取的网页的网站\n",
    "\n",
    "    # 1 获取网页内容\n",
    "    req = requests.get(url) # 进行网络请求，获取响应的内容\n",
    "    req.encoding = 'utf8' # 设置解析编码,防止中文乱码\n",
    "    contentAll = req.text # 解析为文本\n",
    "\n",
    "    # 2 清洗数据，处理\n",
    "    soup = BeautifulSoup(contentAll,'html.parser') # 创建 beautifulsoup对象\n",
    "    contentList = soup.select('.text h4 ') # 根据css帅选数据,得到一个嵌套着beautifulsoup对象的列表\n",
    "\n",
    "    # 为了更好的进行数据的保存与展示，将数据保存在嵌套字典的列表里\n",
    "    all = [] # \n",
    "    for item in contentList: # 循环获取文本数据\n",
    "        all.append({'title':item.text}) \n",
    "\n",
    "\n",
    "    # 3 保存数据\n",
    "    # 使用pandas库函数，将数据导入excel\n",
    "    all = pandas.DataFrame(all)\n",
    "    all.to_excel('./temp/content.xlsx')\n",
    "    # print(all)\n",
    "simpleDemo()"
   ]
  },
  {
   "cell_type": "code",
   "execution_count": 71,
   "metadata": {},
   "outputs": [],
   "source": [
    "# 添加代理\n",
    "import requests\n",
    "from bs4 import BeautifulSoup \n",
    "import pandas \n",
    "\n",
    "def addProxy():\n",
    "    # 设置代理ip，防止本地ip被封\n",
    "    proxyHttps = {'https': 'https://139.129.207.72:808'}\n",
    "    # 设置ua,伪装成游览器\n",
    "    userAgent = 'Mozilla/5.0 (Windows NT 6.1; WOW64) AppleWebKit/537.36 (KHTML, like Gecko) Chrome/50.0.2661.102 Safari/537.36'\n",
    "    head = {'User-Agent': userAgent,\n",
    "            'Connection': 'keep-alive'}\n",
    "\n",
    "    # 1 获取网页内容\n",
    "    # req = requests.get(url3, headers=head, proxies = proxy)  # 免费的ip代理，速度比较慢，我就不用了\n",
    "    url = 'https://sh.lianjia.com/ershoufang/?utm_source=baidu&utm_medium=pinzhuan&utm_term=biaoti&utm_content\\\n",
    "            =biaotimiaoshu&utm_campaign=sousuo&ljref=pc_sem_baidu_ppzq_x'\n",
    "    req = requests.get(url, headers=head)\n",
    "    req.encoding = 'utf8' # 设置解析编码,防止中文乱码\n",
    "    contentAll = req.text # 解析为文本\n",
    "\n",
    "    # 2 清洗数据，处理\n",
    "    soup = BeautifulSoup(contentAll,'html.parser') # 创建 beautifulsoup对象\n",
    "    contentList = soup.select('.info.clear .title a') # 根据css帅选数据,得到一个嵌套着beautifulsoup对象的列表\n",
    "\n",
    "    all = []\n",
    "    for item in contentList:\n",
    "        all.append({'title':item.text})\n",
    "\n",
    "    # 3 保存数据\n",
    "    all = pandas.DataFrame(all)\n",
    "    all.to_excel('./temp/content.xlsx')\n",
    "    # print(all)\n",
    "addProxy()"
   ]
  },
  {
   "cell_type": "code",
   "execution_count": 107,
   "metadata": {},
   "outputs": [
    {
     "name": "stdout",
     "output_type": "stream",
     "text": [
      "['人物\\n80参赛项目入围 亚洲不动产奖国内评选进入冲刺阶段\\n2018年8月27日，备受瞩目的亚洲不动产奖第二次评委会会议召开，宣布亚洲不动产奖的国内评选进入最终冲刺阶段。\\n类型：热点\\n作者：安居客\\n2018-08-28\\n', '\\n中共中央政治局召开会议：下决心解决好房地产市场问题\\n下决心解决好房地产市场问题，坚持因城施策，促进供求平衡，合理引导预期，整治市场秩序，坚决遏制房价上涨。加快建立促进房地产市场平稳健康发展长效...\\n类型：楼盘X真相\\n作者：新华社\\n2018-07-31\\n', '\\n知识攻略\\n【楼市半年报】2018上半年上海楼市总结\\n2018上半场正式收官，在住房不炒的定位下，上海调控政策持续高压，楼市延续平淡。2018楼市半年报年中汇总，安居客带您一起回顾上半年上海楼市的亮点。...\\n类型：热点\\n作者：安居客\\n2018-07-23\\n', '\\n房企\\n“亚洲不动产奖”上海站报名通道开启 国际大奖争夺战拉开帷幕\\n目前，亚洲房地产大奖大中华区的海选通道已开启，海选报名实行邀请制。上海大区已有145个符合条件的楼盘报名成功。报名截止日期为8月10日。\\n类型：热点\\n作者：安居客\\n2018-07-20\\n', '\\n房企\\n世界500强：中国房企实力强劲 恒大、碧桂园排名大幅跃升\\n在今年的世界500强排行榜上，所有上榜的房地产行业公司均来自中国，分别是碧桂园、恒大、万科、绿地控股、保利集团等，5家房企总营业收入约1947亿美元...\\n类型：楼盘X真相\\n作者：安居客\\n2018-07-20\\n', '\\n五大权威媒体力荐！龙湖天璞80亿，加冕上海网红盘\\n是谁，两开两捷，绝对加冕上海网红盘No.1？\\n类型：动态\\n作者：安居客\\n1小时前\\n', '\\n龙湖【悦智】| 科技赋能服务 带来全面智善呵护\\n龙湖依托互联网、人工智能等构建智慧平台\\n类型：动态\\n作者：安居客\\n1小时前\\n', '\\n龙湖【悦智】| 引领智慧社区 开启全新生活\\n当科技全方位融入生活\\n类型：动态\\n作者：安居客\\n1小时前\\n', '\\n上海龙湖天琅 |繁华与静谧兼得 “进退自如”\\n上海龙湖秉承造园匠心，每次执笔皆经典，这一次，龙湖为超越而来。\\n类型：动态\\n作者：安居客\\n1小时前\\n', '\\n龙湖天璞2期 | 北虹桥之上 高潜力的滨水宅邸\\n18年12月末，龙湖·天璞2期滨水宅邸，作为天璞的升级之作，开盘劲销\\n类型：动态\\n作者：安居客\\n1小时前\\n', '\\n龙湖天琅无边界商务，让空间与自然完美融合\\n在解构和重构盛行的时代，商务也正在被重构，行业边界被突破、模糊和融合，即当传统商办往“高处”肆意发展，与自然渐远之时，龙湖天琅作为新商务的引...\\n类型：动态\\n作者：安居客\\n4小时前\\n', '\\n上海龙湖·天璞2期|90㎡爆款户型，挑剔狂人的大满足\\n龙湖深入洞悉人居偏爱，通过对进深空间、生活尺度、人本细节等多维精研，考量空间实用主义，打造出天璞2期如此理想的居住空间。\\n类型：动态\\n作者：安居客\\n4小时前\\n', '\\n龙湖·天琅 | 奢雅花园联排 于天赋地脉敬献时代精英\\n如今的沪上中心商务区、富人区等尽数外扩\\n类型：动态\\n作者：安居客\\n4小时前\\n', '\\n化身黑马上海龙湖天鉅入围2018年上海商办TOP10\\n龙湖集团主力旗舰产品——商办联排上海龙湖天鉅，2018年7月上市后成绩斐然，仅5个月时间，就突入2018年上海全市办公销售金额TOP10\\n类型：动态\\n作者：安居客\\n4小时前\\n', '\\n送门票|托马斯和他的朋友们空降天街！邀你一起过新年！\\n什么！真的是托马斯！\\n类型：动态\\n作者：安居客\\n4小时前\\n', '\\n新西塘孔雀城，为不同人生献上更高的尺度礼遇\\n拉开的是距离 得到的是乐活。阳光和阔景，让长住于此的居民，沐浴景致而生活，帮助他们释放工作、家庭方面的压力，留下更多的空间去享受世界的乐趣。...\\n类型：动态\\n作者：沈宸萱\\n20小时前\\n', '\\n新西塘孔雀城，以品质筑梦，生活在真实的桃花源中\\n新西塘孔雀城，以品质筑梦，生活在真实的桃花源中。\\n类型：动态\\n作者：沈宸萱\\n20小时前\\n', '\\n新西塘孔雀城 | 创造有质量的生活经历\\n创造有质量的生活经历。基于人本思维，通过开发和建设自然健康、人文气息浓厚的生活空间，让每一位入住孔雀城的业主体验安然和幸福。\\n类型：动态\\n作者：沈宸萱\\n20小时前\\n', '\\n新西塘孔雀城，为客户打造高品质的城市生活体验\\n新西塘孔雀城位于规划12平方公里的嘉善高铁新城内，以\"一心一带一环\"贯穿新城：滨水商业中心，滨水健康带和社区生活环，为客户打造高品质的城市生活体...\\n类型：动态\\n作者：\\n21小时前\\n', '\\n新西塘孔雀城 | 传承传统\\n江南是一个人杰地灵、英才辈出之处。\\n类型：动态\\n作者：沈宸萱\\n21小时前\\n', '\\n新西塘孔雀城，邀您共同体验健康休闲的生活氛围\\n新西塘孔雀城，邀您共同体验健康休闲的生活氛围\\n类型：动态\\n作者：沈宸萱\\n21小时前\\n', '\\n新西塘孔雀城，绿色健康\\n其实，无论是房子还是城市，其本身的意义并没那么深刻，只有和我们所爱的人住进里面，一起生活，一起经历，慢慢的形成我们脑海的每一寸记忆，这个城市...\\n类型：动态\\n作者：沈宸萱\\n21小时前\\n', '\\n精耕环上海，新西塘孔雀城，生态宜居\\n新西塘孔雀城精耕环上海，选择环沪生态宜居小镇嘉善作为落点、依托这里优越的自然环境和交通条件，引进接轨大上海的资源、落实居住的各项配套，将新西...\\n类型：动态\\n作者：沈宸萱\\n21小时前\\n', '\\n新西塘孔雀城 | 生活自然和谐舒适\\n孔雀城•旭辉•翰景悦府，的超宽楼间距降低了楼与楼之间的遮挡，从清晨到日落，入耳便是鸟鸣，入眼即是钻窗而过的风景，人生从此和自然美景坦诚相见。...\\n类型：动态\\n作者：沈宸萱\\n21小时前\\n', '\\n新西塘孔雀城的建筑，以匠心筑臻心\\n一座新城，彰显着一座城市的精神；一座建筑，承载着一座城市的灵魂；一座地标，成就着一座城市的传奇；一座洋房，演绎出一座名城古镇的幸福。\\n类型：动态\\n作者：沈宸萱\\n21小时前\\n', '\\n新西塘孔雀城，与城市共鸣\\n城市给予建筑舞台，建筑承载城市精神。从建筑到城市，再到生活，孔雀城一步步走进人的内心。与城市共鸣，与人心共鸣。\\n类型：动态\\n作者：沈宸萱\\n21小时前\\n', '\\n新西塘孔雀城 | 让生活因空间尺度而更加从容\\n如今，随着交通的愈加便利，大上海奋斗的年轻人生活又多了一种选择：“工作上海，优居嘉善”，以时间换空间，生活因空间尺度而更加从容。\\n类型：动态\\n作者：沈宸萱\\n21小时前\\n', '\\n新西塘孔雀城•塘悦汇，恭迎品鉴！\\n新西塘孔雀城•塘悦汇，约30-150㎡鎏金现铺全面上市，恭迎品鉴！\\n类型：动态\\n作者：沈宸萱\\n21小时前\\n', '\\n地嘉人善，民风淳朴\\n新西塘越里无疑就是嘉善新城的后花园。\\n类型：动态\\n作者：沈宸萱\\n21小时前\\n', '\\n孔雀城以构筑幸福城市为目标\\n孔雀城以构筑幸福城市为目标，不断的努力去给所有人创造幸福的生活条件，给予任何人拥有幸福的权利。\\n类型：动态\\n作者：沈宸萱\\n21小时前\\n', '\\n新西塘孔雀城，为创造美好生活不懈努力\\n绿色、低碳、环保，是现在人们生活追求的目标，也是新西塘孔雀城研发团队一直坚持的工作原则。\\n类型：动态\\n作者：沈宸萱\\n21小时前\\n', '\\n新西塘孔雀城 | 满足家庭居住需求\\n新西塘孔雀城，目前主推的翰景悦府项目，位于12平方公里规划中的水岸学府区域，位置优越，而其户型更是研发组费心思量，精心打造的居住典范，以翰...\\n类型：动态\\n作者：沈宸萱\\n21小时前\\n', '\\n新西塘孔雀城•翰景悦府，只为这份满满的幸福感\\n随着时间的推移和社会的进步，越来越多的年轻人选择去大城市闯荡，怀揣着自己的满腔热情，租着20平的小屋子，进出高大上的写字楼，穿梭在繁华的街...\\n类型：动态\\n作者：沈宸萱\\n22小时前\\n', '\\n新西塘孔雀城，实现市民生活梦想\\n孔雀城构筑“幸福城市”，是认同任何社会角色，任何年龄阶段关于幸福的权利，实现市民生活梦想的城市。\\n类型：动态\\n作者：沈宸萱\\n22小时前\\n', '\\n新西塘孔雀城，完美体现建筑精神\\n新西塘孔雀城，在珍贵的土地上，谱写理想的生活范本，用绝对的深度和精度，共筑全新的品质生活。\\n类型：动态\\n作者：沈宸萱\\n22小时前\\n', '\\n新西塘孔雀城，增值空间巨大\\n规划，决定了一座城市建设的整体布局；翰峰云邸原址为天云镇政府，一个地方的经济以政府为核心延展，相对而言，天云镇项目周边的配套相对齐全。\\n类型：动态\\n作者：沈宸萱\\n22小时前\\n', '\\n新西塘孔雀城 | 极致匠心\\n孔雀城自2003年创立品牌，尊重每一座城市、每一寸土地，履迹从换北京到环上海，再到环广州及更多城市，皆源于其对于极致匠心的追求。\\n类型：动态\\n作者：沈宸萱\\n22小时前\\n', '\\n新西塘孔雀城，工程品质先行\\n360个施工细节，500道建筑工序，800次检验。秉着对业主负责任的态度，每一个建筑过程，每一个施工工艺都经过工程各部门层层严控。\\n类型：动态\\n作者：沈宸萱\\n22小时前\\n', '\\n新西塘孔雀城，创造美好生活！\\n精益求精 砥砺前行。新西塘孔雀城，一直砥砺前行，不忘初心，从工程质量到工程进度，保持精益求精的态度，对每一环节进行严格把控。\\n类型：动态\\n作者：沈宸萱\\n23小时前\\n', '\\n新西塘孔雀城专业的物业团队，为幸福而至\\n新西塘孔雀城专业的物业团队，为生活而来，为幸福而至 。\\n类型：动态\\n作者：沈宸萱\\n23小时前\\n', '\\n新西塘孔雀城，尽显细节品味\\n个好的户型，往往才能打造开阔人生。南向开间，满园风光尽收眼底，收藏四季园林风光，宽清晨的一束阳光，人生宽广的心境由此打开。宽奢餐客一体横...\\n类型：动态\\n作者：沈宸萱\\n23小时前\\n', '\\n新西塘孔雀城，一站虹桥的绝佳地利优势\\n城市给予建筑舞台，建筑承载城市精神。从建筑到城市，再到生活，孔雀城一步步走进人的内心。\\n类型：动态\\n作者：沈宸萱\\n23小时前\\n', '\\n新西塘孔雀城，“离尘不离城”\\n随着全球化发展以及社会财富阶层的日趋年轻化，人民对传统的“衣食住行”提出了更高的期望，如果不能对人们日益发展的需求做出正确的预判，任何行...\\n类型：动态\\n作者：沈宸萱\\n2019-01-10\\n', '\\n新西塘孔雀城，用尽职尽责创造美好生活！\\n365天每天幸福一小事，孔雀城的客服与物业频繁活跃于新西塘孔雀城的各个社区内，他们统一着装，步调惊人一致，他们事无巨细。他们上岗无私事，细...\\n类型：动态\\n作者：沈宸萱\\n2019-01-10\\n', '\\n5号线沿线楼盘那么多，凭什么只有她这么红？\\n5号线沿线楼盘中的香饽饽是谁？\\n类型：动态\\n作者：安居客\\n2019-01-10\\n', '']\n"
     ]
    }
   ],
   "source": [
    "# 终结篇，未完待续\n",
    "\n",
    "# 说明：\n",
    "# https://sh.news.anjuke.com/?from=navigation\n",
    "# 客户端有防爬虫措施，无法直接选取某个具体的元素，我先选择了一个可以选择的元素，然后再使用BeautifulSoup进行处理。\n",
    "\n",
    "# 模拟游览器爬取动态网页\n",
    "# !pip install selenium\n",
    "from bs4 import BeautifulSoup\n",
    "from selenium import webdriver\n",
    "from selenium.webdriver.chrome.options import Options\n",
    "import time\n",
    "# from selenium.webdriver.common.action_chains import ActionChains\n",
    "# import pandas\n",
    "driver_path = 'D:/xsg/app/chromedriver_win32/chromedriver.exe'\n",
    "chrome_options=Options()\n",
    "\n",
    "\n",
    "browser = webdriver.Chrome(executable_path = driver_path, options = chrome_options) #获取游览器的驱动\n",
    "url1 = 'https://sh.news.anjuke.com/?from=navigation'\n",
    "url2 = 'http://139.224.115.177:7777'\n",
    "browser.get(url1) \n",
    "\n",
    "browser.find_elements_by_css_selector('.loading-more')[0].click()\n",
    "#html = browser.execute_script(\"return document.documentElement.outerHTML\")\n",
    "#html = browser.find_elements_by_css_selector('.main-list')[0].get_attribute('innerHTML')\n",
    "html = browser.find_elements_by_css_selector('.main-list')[0].text\n",
    "print(html.split(''))\n",
    "\n",
    "\n",
    "# soup = BeautifulSoup(html,'html.parser')\n",
    "# content = soup.select('.item-title')\n",
    "\n",
    "# a = browser.find_elements_by_css_selector('.loading-more')[0]\n",
    "# a.click()\n",
    "# content = html.find_elements_by_css_selector('.item-title-wrap')\n",
    "# for itme in content:\n",
    "#     print(item.text)\n",
    "# time.sleep(10)\n",
    "# print('aa')\n",
    "\n",
    "# browser.close() # 关闭浏览器\n",
    "# browser.quit() # 关闭chreomedriver进程\n",
    "\n",
    "\n",
    "# chrome_options.add_argument('--headless') 不显示游览器\n",
    "# chrome_options.add_argument('--disable-gpu')\n",
    "# chrome_options.add_argument('disable-infobars') \n",
    "\n",
    "# 不加载图片\n",
    "# prefs = {\"profile.managed_default_content_settings.images\": 2}  \n",
    "# chrome_options.add_experimental_option(\"prefs\", prefs) \n",
    "\n",
    "# options.setCapability(\"proxy\", proxy) 设置代理\n",
    "\n",
    "# driver.find_element_by_id('').send_keys('') 填写表单\n",
    "# stime = driver.find_elements_by_css_selector('.c_tx.c_tx3.goDetail') css选择器\n",
    "# driver.find_element_by_link_text('下一页').click() 通过文本选择\n",
    "# driver.switch_to.frame('app_canvas_frame') 进入网页内置的ifrane\n",
    "# driver.save_screenshot(\"baidu.png\") 生成网页图片\n"
   ]
  },
  {
   "cell_type": "code",
   "execution_count": 87,
   "metadata": {},
   "outputs": [
    {
     "name": "stdout",
     "output_type": "stream",
     "text": [
      "加载更多\n"
     ]
    }
   ],
   "source": [
    "a = browser.find_elements_by_css_selector('.loading-more')[0]\n",
    "a.click()\n",
    "print(a.text)\n"
   ]
  }
 ],
 "metadata": {
  "kernelspec": {
   "display_name": "Python 3",
   "language": "python",
   "name": "python3"
  }
 },
 "nbformat": 4,
 "nbformat_minor": 2
}
