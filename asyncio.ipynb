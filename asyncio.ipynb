{
 "cells": [
  {
   "cell_type": "code",
   "execution_count": 36,
   "metadata": {},
   "outputs": [
    {
     "name": "stdout",
     "output_type": "stream",
     "text": [
      "Coroutine: <coroutine object execute at 0x0000000004F02DB0>\n",
      "-- <class 'coroutine'>\n",
      "After calling execute\n",
      "Number: aa\n",
      "Number: aa\n",
      "Number: 1\n",
      "Number: 2\n"
     ]
    }
   ],
   "source": [
    "import asyncio\n",
    "async def execute(x):\n",
    "    print('Number:',\"aa\")\n",
    "    await asyncio.sleep(2)\n",
    "    print('Number:',x)\n",
    "    return  x\n",
    "coroutine1 = execute(1)\n",
    "coroutine2 = execute(2)\n",
    "print('Coroutine:', coroutine1)\n",
    "print('--',type(coroutine1))\n",
    "print('After calling execute')\n",
    "task = [asyncio.ensure_future(coroutine1),\n",
    "        asyncio.ensure_future(coroutine2)\n",
    "       ]\n",
    "# print('--',type(task))\n",
    "# print('Task:', task)\n",
    "# loop = asyncio.get_event_loop()\n",
    "# loop.run_until_complete(task)\n",
    "# loop.close()\n",
    "# print('Task:', task)\n",
    "# print('After calling loop')\n"
   ]
  }
 ],
 "metadata": {
  "kernelspec": {
   "display_name": "Python 3",
   "language": "python",
   "name": "python3"
  },
  "language_info": {
   "codemirror_mode": {
    "name": "ipython",
    "version": 3
   },
   "file_extension": ".py",
   "mimetype": "text/x-python",
   "name": "python",
   "nbconvert_exporter": "python",
   "pygments_lexer": "ipython3",
   "version": "3.6.5"
  }
 },
 "nbformat": 4,
 "nbformat_minor": 2
}
